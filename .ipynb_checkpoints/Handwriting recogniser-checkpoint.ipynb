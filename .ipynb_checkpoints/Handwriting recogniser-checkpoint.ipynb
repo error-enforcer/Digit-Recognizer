{
 "cells": [
  {
   "cell_type": "code",
   "execution_count": 1,
   "id": "64a98499-8905-43e5-bb2c-26c1256d56c3",
   "metadata": {},
   "outputs": [],
   "source": [
    "#Screen Capture"
   ]
  },
  {
   "cell_type": "code",
   "execution_count": 17,
   "id": "08c23fdf-4f25-458b-a3fc-bd3de4535b09",
   "metadata": {},
   "outputs": [
    {
     "name": "stdout",
     "output_type": "stream",
     "text": [
      "Saved 0.png\n",
      "Clear screen now and redraw again…\n",
      "All captures done. You may rest now.\n"
     ]
    }
   ],
   "source": [
    "def data_set():\n",
    "    import pyscreenshot as ImageGrab\n",
    "    import time\n",
    "    import os\n",
    "\n",
    "    # Change this to whatever label/subfolder you want\n",
    "    # e.g. if capturing digit “9”, run data_set() with images_folder=\"captured_images/9/\"\n",
    "    images_folder = \"captured_images/0/\"\n",
    "    os.makedirs(images_folder, exist_ok=True)\n",
    "\n",
    "    for i in range(1):\n",
    "        time.sleep(5)\n",
    "        im = ImageGrab.grab(bbox=(70, 250, 800, 850))\n",
    "        print(f\"Saved {i}.png\")\n",
    "        im.save(f\"{images_folder}{i}.png\")\n",
    "        print(\"Clear screen now and redraw again…\")\n",
    "    print(\"All captures done. You may rest now.\")\n",
    "data_set()"
   ]
  },
  {
   "cell_type": "code",
   "execution_count": null,
   "id": "a89a773b-5b65-49c5-a133-e5bf91874c84",
   "metadata": {},
   "outputs": [],
   "source": [
    "#Generate dataset\n",
    "import"
   ]
  },
  {
   "cell_type": "code",
   "execution_count": 18,
   "id": "e61322c7-d4f9-4383-b89d-85ba13cc0ea1",
   "metadata": {},
   "outputs": [],
   "source": [
    "import cv2\n",
    "import csv\n",
    "import glob\n",
    "import os\n",
    "\n",
    "# Create CSV header: “label, pixel0, pixel1, …, pixel783”\n",
    "header = [\"label\"] + [f\"pixel{i}\" for i in range(784)]\n",
    "\n",
    "# If dataset.csv doesn’t exist, write the header\n",
    "if not os.path.exists(\"dataset.csv\"):\n",
    "    with open(\"dataset.csv\", \"w\", newline=\"\") as f:\n",
    "        writer = csv.writer(f)\n",
    "        writer.writerow(header)\n",
    "\n",
    "# Loop through each digit label folder (0–9)\n",
    "for label in range(10):\n",
    "    folder_pattern = f\"captured_images/{label}/*.png\"\n",
    "    for img_path in glob.glob(folder_pattern):\n",
    "        im = cv2.imread(img_path)\n",
    "        if im is None:\n",
    "            continue\n",
    "\n",
    "        # Convert to grayscale + blur + resize to 28×28\n",
    "        im_gray = cv2.cvtColor(im, cv2.COLOR_BGR2GRAY)\n",
    "        im_gray = cv2.GaussianBlur(im_gray, (15, 15), 0)\n",
    "        roi = cv2.resize(im_gray, (28, 28), interpolation=cv2.INTER_AREA)\n",
    "\n",
    "        # Flatten 28×28 → 784 binary pixels\n",
    "        row = [label]\n",
    "        for y in range(28):\n",
    "            for x in range(28):\n",
    "                val = 1 if roi[y, x] > 100 else 0\n",
    "                row.append(val)\n",
    "\n",
    "        # Append to CSV\n",
    "        with open(\"dataset.csv\", \"a\", newline=\"\") as f:\n",
    "            writer = csv.writer(f)\n",
    "            writer.writerow(row)\n"
   ]
  },
  {
   "cell_type": "code",
   "execution_count": 19,
   "id": "06de5ddb-81c2-415e-a649-443ad70e40a3",
   "metadata": {},
   "outputs": [
    {
     "name": "stdout",
     "output_type": "stream",
     "text": [
      "Training complete. Test accuracy = 0.8226\n"
     ]
    }
   ],
   "source": [
    "import pandas as pd\n",
    "from sklearn.utils import shuffle\n",
    "from sklearn.model_selection import train_test_split\n",
    "from sklearn.svm import SVC\n",
    "from sklearn import metrics\n",
    "import joblib\n",
    "\n",
    "# Load and shuffle\n",
    "data = pd.read_csv(\"dataset.csv\")\n",
    "data = shuffle(data)\n",
    "\n",
    "# Separate features/labels\n",
    "X = data.drop(columns=[\"label\"])\n",
    "Y = data[\"label\"]\n",
    "train_x, test_x, train_y, test_y = train_test_split(X, Y, test_size=0.2, random_state=42)\n",
    "\n",
    "# Fit an SVC and dump the model\n",
    "classifier = SVC(kernel=\"linear\", random_state=6)\n",
    "classifier.fit(train_x, train_y)\n",
    "joblib.dump(classifier, \"model/digit_recogniser\")\n",
    "\n",
    "# Report accuracy\n",
    "predictions = classifier.predict(test_x)\n",
    "print(f\"Training complete. Test accuracy = {metrics.accuracy_score(test_y, predictions):.4f}\")\n"
   ]
  },
  {
   "cell_type": "code",
   "execution_count": 15,
   "id": "49a86022-4a4d-404e-936d-26fa71550729",
   "metadata": {},
   "outputs": [
    {
     "name": "stdout",
     "output_type": "stream",
     "text": [
      "Starting digit recognizer. Press ESC or Enter to exit.\n",
      "Prediction: 9\n",
      "Prediction: 9\n",
      "Prediction: 9\n",
      "Prediction: 1\n",
      "Prediction: 9\n",
      "Prediction: 9\n",
      "Prediction: 1\n",
      "Prediction: 0\n",
      "Prediction: 1\n",
      "Prediction: 6\n",
      "Prediction: 1\n",
      "Prediction: 0\n",
      "Prediction: 1\n",
      "Prediction: 6\n",
      "Prediction: 1\n",
      "Prediction: 9\n",
      "Prediction: 9\n",
      "Prediction: 9\n"
     ]
    },
    {
     "ename": "KeyboardInterrupt",
     "evalue": "",
     "output_type": "error",
     "traceback": [
      "\u001b[31m---------------------------------------------------------------------------\u001b[39m",
      "\u001b[31mKeyboardInterrupt\u001b[39m                         Traceback (most recent call last)",
      "\u001b[36mCell\u001b[39m\u001b[36m \u001b[39m\u001b[32mIn[15]\u001b[39m\u001b[32m, line 62\u001b[39m\n\u001b[32m     59\u001b[39m         \u001b[38;5;28;01mbreak\u001b[39;00m\n\u001b[32m     61\u001b[39m     \u001b[38;5;66;03m# 7) Pause 1 second before next loop\u001b[39;00m\n\u001b[32m---> \u001b[39m\u001b[32m62\u001b[39m     time.sleep(\u001b[32m1\u001b[39m)\n\u001b[32m     64\u001b[39m \u001b[38;5;28;01mexcept\u001b[39;00m \u001b[38;5;167;01mException\u001b[39;00m \u001b[38;5;28;01mas\u001b[39;00m e:\n\u001b[32m     65\u001b[39m     \u001b[38;5;28mprint\u001b[39m(\u001b[33m\"\u001b[39m\u001b[33mError:\u001b[39m\u001b[33m\"\u001b[39m, e)\n",
      "\u001b[31mKeyboardInterrupt\u001b[39m: "
     ]
    }
   ],
   "source": [
    "import numpy as np\n",
    "import cv2\n",
    "import time\n",
    "import os\n",
    "import joblib\n",
    "import pyscreenshot as ImageGrab\n",
    "\n",
    "# Load the saved model\n",
    "model = joblib.load(\"model/digit_recogniser\")\n",
    "\n",
    "# Temp folder for screenshots\n",
    "images_folder = \"img/\"\n",
    "os.makedirs(images_folder, exist_ok=True)\n",
    "\n",
    "print(\"Starting digit recognizer. Press ESC or Enter to exit.\")\n",
    "\n",
    "while True:\n",
    "    try:\n",
    "        # 1) Capture screenshot of region\n",
    "        img = ImageGrab.grab(bbox=(70, 250, 800, 850))\n",
    "        img_path = os.path.join(images_folder, \"img.png\")\n",
    "        img.save(img_path)\n",
    "\n",
    "        # 2) Read and preprocess\n",
    "        im = cv2.imread(img_path)\n",
    "        if im is None:\n",
    "            print(\"Failed to read image.\")\n",
    "            continue\n",
    "\n",
    "        im_gray = cv2.cvtColor(im, cv2.COLOR_BGR2GRAY)\n",
    "        im_gray = cv2.GaussianBlur(im_gray, (15, 15), 0)\n",
    "        _, im_th = cv2.threshold(im_gray, 100, 255, cv2.THRESH_BINARY)\n",
    "        roi = cv2.resize(im_th, (28, 28), interpolation=cv2.INTER_AREA)\n",
    "\n",
    "        # 3) Flatten to 1×784 binary vector\n",
    "        flat = [1 if roi[y, x] > 100 else 0 for y in range(28) for x in range(28)]\n",
    "\n",
    "        # 4) Predict via NumPy array (no feature‐name warning)\n",
    "        import pandas as pd\n",
    "\n",
    "        # Match feature names used during training: pixel0, pixel1, ..., pixel783\n",
    "        column_names = [f\"pixel{i}\" for i in range(784)]\n",
    "        X_df = pd.DataFrame([flat], columns=column_names)\n",
    "\n",
    "# Predict using the DataFrame\n",
    "prediction = model.predict(X_df)[0]\n",
    "\n",
    "        print(f\"Prediction: {prediction}\")\n",
    "\n",
    "        # 5) Show on image window\n",
    "        cv2.putText(im, f\"Prediction: {prediction}\", (20, 30),\n",
    "                    cv2.FONT_HERSHEY_SIMPLEX, 0.8, (0, 255, 0), 2)\n",
    "        cv2.imshow(\"Result\", im)\n",
    "\n",
    "        # 6) Exit on ESC (27) or Enter (13)\n",
    "        key = cv2.waitKey(1)\n",
    "        if key in [27, 13]:\n",
    "            print(\"Exiting.\")\n",
    "            break\n",
    "\n",
    "        # 7) Pause 1 second before next loop\n",
    "        time.sleep(1)\n",
    "\n",
    "    except Exception as e:\n",
    "        print(\"Error:\", e)\n",
    "\n",
    "cv2.destroyAllWindows()"
   ]
  },
  {
   "cell_type": "code",
   "execution_count": 21,
   "id": "854fc85d-244b-4dff-867a-ec3c281858fe",
   "metadata": {},
   "outputs": [
    {
     "name": "stdout",
     "output_type": "stream",
     "text": [
      "Accuracy =  0.8225806451612904\n"
     ]
    }
   ],
   "source": [
    "from sklearn import metrics\n",
    "prediction = classifier.predict(test_x)\n",
    "print(\"Accuracy = \", metrics.accuracy_score(test_y, predictions))"
   ]
  },
  {
   "cell_type": "code",
   "execution_count": null,
   "id": "c8e80af0-1278-4fec-80c3-76f8200ce5d0",
   "metadata": {},
   "outputs": [],
   "source": []
  },
  {
   "cell_type": "code",
   "execution_count": null,
   "id": "55d4e686-e39b-4031-a26e-ebcf1716d5b7",
   "metadata": {},
   "outputs": [],
   "source": []
  }
 ],
 "metadata": {
  "kernelspec": {
   "display_name": "Python 3 (ipykernel)",
   "language": "python",
   "name": "python3"
  },
  "language_info": {
   "codemirror_mode": {
    "name": "ipython",
    "version": 3
   },
   "file_extension": ".py",
   "mimetype": "text/x-python",
   "name": "python",
   "nbconvert_exporter": "python",
   "pygments_lexer": "ipython3",
   "version": "3.11.0"
  }
 },
 "nbformat": 4,
 "nbformat_minor": 5
}
